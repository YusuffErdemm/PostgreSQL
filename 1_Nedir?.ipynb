{
 "cells": [
  {
   "cell_type": "markdown",
   "id": "7b18e22e",
   "metadata": {
    "toc": true
   },
   "source": [
    "<h1>Table of Contents<span class=\"tocSkip\"></span></h1>\n",
    "<div class=\"toc\"><ul class=\"toc-item\"><li><span><a href=\"#Veri-?\" data-toc-modified-id=\"Veri-?-1\"><span class=\"toc-item-num\">1&nbsp;&nbsp;</span>Veri ?</a></span></li><li><span><a href=\"#Veritabani-?\" data-toc-modified-id=\"Veritabani-?-2\"><span class=\"toc-item-num\">2&nbsp;&nbsp;</span>Veritabani ?</a></span><ul class=\"toc-item\"><li><span><a href=\"#Düzenli-verilere-sahip-olursak;\" data-toc-modified-id=\"Düzenli-verilere-sahip-olursak;-2.1\"><span class=\"toc-item-num\">2.1&nbsp;&nbsp;</span>Düzenli verilere sahip olursak;</a></span></li></ul></li><li><span><a href=\"#Veritabanı-türleri\" data-toc-modified-id=\"Veritabanı-türleri-3\"><span class=\"toc-item-num\">3&nbsp;&nbsp;</span>Veritabanı türleri</a></span></li><li><span><a href=\"#Veri-Tabani-Yazilimi?\" data-toc-modified-id=\"Veri-Tabani-Yazilimi?-4\"><span class=\"toc-item-num\">4&nbsp;&nbsp;</span>Veri Tabani Yazilimi?</a></span></li><li><span><a href=\"#Veri-Tabani-Yonetim-Sistemi-(DBMS)\" data-toc-modified-id=\"Veri-Tabani-Yonetim-Sistemi-(DBMS)-5\"><span class=\"toc-item-num\">5&nbsp;&nbsp;</span>Veri Tabani Yonetim Sistemi (DBMS)</a></span><ul class=\"toc-item\"><li><ul class=\"toc-item\"><li><span><a href=\"#İş-performansını-ve-karar-vermeyi-geliştirmek-için-veritabanları-kullanma\" data-toc-modified-id=\"İş-performansını-ve-karar-vermeyi-geliştirmek-için-veritabanları-kullanma-5.0.1\"><span class=\"toc-item-num\">5.0.1&nbsp;&nbsp;</span>İş performansını ve karar vermeyi geliştirmek için veritabanları kullanma</a></span></li></ul></li></ul></li><li><span><a href=\"#SQL-(-Structured-Query-Language-)-NEDIR-?\" data-toc-modified-id=\"SQL-(-Structured-Query-Language-)-NEDIR-?-6\"><span class=\"toc-item-num\">6&nbsp;&nbsp;</span>SQL ( Structured Query Language ) NEDIR ?</a></span><ul class=\"toc-item\"><li><ul class=\"toc-item\"><li><ul class=\"toc-item\"><li><span><a href=\"#Bir-Programlama-dili-olarak-SQL\" data-toc-modified-id=\"Bir-Programlama-dili-olarak-SQL-6.0.0.1\"><span class=\"toc-item-num\">6.0.0.1&nbsp;&nbsp;</span>Bir Programlama dili olarak SQL</a></span></li><li><span><a href=\"#Bildirimsel-Yaklasim\" data-toc-modified-id=\"Bildirimsel-Yaklasim-6.0.0.2\"><span class=\"toc-item-num\">6.0.0.2&nbsp;&nbsp;</span>Bildirimsel Yaklasim</a></span></li></ul></li></ul></li></ul></li></ul></div>"
   ]
  },
  {
   "cell_type": "markdown",
   "id": "e31e5dd6",
   "metadata": {},
   "source": [
    "# Veri ?\n",
    "Ölçüm, sayım, deney, gözlem veya araştırma sonucuyla elde edilen ham bilgilerdir.\n",
    "\n",
    "- Bilgisayar bilimlerinde hesaplama ya da manipülasyon amacı ile kullanılan bir gerçeği belirlemektedir."
   ]
  },
  {
   "cell_type": "markdown",
   "id": "0e7f8a2c",
   "metadata": {},
   "source": [
    "# Veritabani ?\n",
    "Veritabanı genellikle bir bilgisayar sisteminde elektronik olarak depolanan yapılandırılmış bilgi veya veriden oluşan düzenli bir koleksiyondur. \n",
    "\n",
    "Veritabanı genellikle bir veritabanı yönetim sistemi (DBMS) ile kontrol edilir. "
   ]
  },
  {
   "cell_type": "markdown",
   "id": "2a7a175d",
   "metadata": {},
   "source": [
    "## Düzenli verilere sahip olursak;\n",
    "\n",
    "- İleriye yönelik geliştirici kararlar verebiliriz.  \n",
    "- Hatalarımızı daha kolay çözeriz.  \n",
    "- Geleceğe yönelik başarılı tahminlerde bulunabiliriz.  \n",
    "\n",
    "Peki, gelelim kritik soruya. Bizler örneğin EXCEL benzeri yazılımlar sayesinde verilerimizi saklayabiliriz. Neden bir    veritabanına ihtiyaç duyalım?  \n",
    "\n",
    "- Veritabanı sayesinde sütunlarda bulunanacak verilerin aynı veri tipinde olmasını garanti ederiz.  \n",
    "- Veritabanları sayesinde çok büyük boyutlu veri kümeleriyle daha kolay çalışırız.  \n",
    "- Çoklu kullanıcı yönetimi için veri tabanları daha uygundur.  \n",
    "- Veritabanları başka yazılım ve uygulamalarla daha kolay çalışır.  \n"
   ]
  },
  {
   "cell_type": "markdown",
   "id": "0f3cd996",
   "metadata": {},
   "source": [
    "# Veritabanı türleri \n",
    "Belirli bir kurum için en iyi veritabanı, söz konusu kurumun verileri nasıl kullanmayı amaçladığına bağlı olarak değişiklik gösterir.\n",
    "\n",
    "![Populer DBMS yazilimlari](RDBMS.png)\n",
    "\n",
    "` Ilişkisel veritabanları : `  İlişkisel veritabanları 1980'li yılların sonlarında piyasada hakimiyet kazandı. İlişkisel veritabanındaki öğeler, sütunlar ve satırlardan oluşan bir tablo kümesi şeklinde organiza edilir. İlişkisel veritabanı teknolojisi, yapılandırılmış bilgilere en verimli ve esnek şekilde erişme olanağını sağlar.\n",
    "> BerkeleyDB DB2 Informix Interbase Microsoft Access  Microsoft Management Studio MySQL Oracle PgAdmin PostgreSQL Sybase Sysbase\n",
    "\n",
    "`NoSQL veritabanları`: Bir NoSQL veya ilişkisel olmayan veritabanı yapılandırılmamış ve yarı yapılandırılmış verilerin depolanmasına ve değiştirilmesine olanak tanır (veritabanına girilen tüm verilerin nasıl düzenleneceğini tanımlayan ilişkisel veritabanının aksine). NoSQL veritabanları, web uygulama yazılımlarının daha yaygın ve daha karmaşık hâle gelmesi ile birlikte popülerlik kazandı.\n",
    "> MongoDB Cassandra ElasticSearch Amazon DynamoDB H Base\n",
    "\n",
    "` Nesne Yonelimli veritabanları ` : Nesne odaklı bir veritabanındaki bilgiler, tıpkı nesne odaklı programlamada olduğu gibi nesneler biçiminde temsil edilir.\n",
    "> Caché Cerebrum ConceptBase Db4o eXtremeDB Zope Pers  Mattise\n",
    "\n",
    "` Dağıtılmış veritabanları`: Dağıtılmış veritabanı, farklı yerlerde bulunan iki veya daha fazla dosyadan oluşur. Veritabanı, farklı ağlara yayılan ya da aynı fiziksel konumda yer alan birden fazla bilgisayarda depolanabilir.\n",
    "\n",
    "`Veri ambarları`:Veri ambarı,Kurum ya da kuruluşların bilgi sistemlerinde depolanan verilerin tamamının veya belirli bir kısmının düzenli bir şekilde tutulduğu,merkezi  veri depolama alanıdır.Bu terimin yaratıcısı W.H.Inmon'dur. IBM ise bu terimi  \"Bilgi Ambarı\" olarak kullanmaktadır\n",
    "\n",
    "`Grafik veritabanları`: Grafik veritabanı, verileri birimler ve birimler arasındaki ilişkiler açısından depolar.\n",
    "OLTP veritabanları. \n",
    "\n",
    "`OLTP veritabanı`:, birden fazla kullanıcı tarafından çok sayıda işlemin gerçekleştirilmesi için tasarlanmış hızlı ve analitik bir veritabanıdır.\n",
    "\n",
    "\n",
    "\n",
    "---\n",
    "\n",
    "\n",
    "\n",
    ">Günümüzde onlarca veritabanı türü kullanılmaktadır. Daha az yaygın olan diğer veritabanları bilimsel, finansal ya da diğer işlevlere özel olarak tasarlanmıştır. Farklı veritabanı türlerine ek olarak, bulut ve otomasyon gibi radikal ilerlemeler ve teknoloji geliştirme yaklaşımlarındaki değişiklikler veritabanlarının rotasını yepyeni yerlere çeviriyor. En yeni veritabanlarından bazıları şu şekilde sıralanabilir:\n",
    "\n",
    "\n",
    "`Açık kaynak veritabanları`:Açık kaynak veritabanı sistemi, kaynak kodu açık kaynak olan bir sistemdir. Bu tür veritabanları SQL veya NoSQL veritabanları olabilir.\n",
    "\n",
    "`Bulut veritabanları`: Bir bulut veritabanı özel, genel veya hibrit bulut bilgi işlem platformunda bulunan yapılandırılmış veya yapılandırılmamış bir veri koleksiyonudur. İki tür bulut veritabanı modeli bulunur: geleneksel ve servis olarak veritabanı (DBaaS). DBaaS sayesinde yönetim görevleri ve bakım işlemleri servis sağlayıcı tarafından gerçekleştirilir.\n",
    "`Çoklu model veritabanı`: Çoklu model veritabanları, farklı veritabanı türlerini tek bir entegre arka uçta buluşturur. Buna göre çeşitli veri türlerini içerebilirler.\n",
    "\n",
    "`Belge/JSON veritabanı`: Belge odaklı bilgilerin depolanması, alınması ve yönetilmesi için tasarlanan belge veritabanları, verileri satırlar ve sütunlar yerine JSON biçiminde depolamak için modern bir yöntem sunar.\n",
    "\n",
    "`Kendi kendini yöneten veritabanları`: En yeni ve en ezber bozan veritabanı türü, kendi kendini yöneten veritabanları (aynı zamanda otonom veritabanları olarak bilinir), geleneksel olarak veritabanı yöneticileri tarafından gerçekleştirilen ince ayar, güvenlik, yedekleme, güncelleme ve diğer rutin yönetim görevlerini otomatikleştirmek üzere makine öğreniminden yararlanan bulut tabanlı çözümlerdir.\n",
    "\n"
   ]
  },
  {
   "cell_type": "markdown",
   "id": "c0a278a8",
   "metadata": {},
   "source": [
    "# Veri Tabani Yazilimi?\n",
    "Veritabanı yazılımı dosya ve kayıt oluşturmayı, veri girişini, veri düzenlemeyi, güncellemeyi ve raporlamayı kolay hale getirerek veritabanı dosyalarını ve kayıtları oluşturmak, düzenlemek ve muhafaza etmek için kullanılır. Yazılım veri depolama, yedekleme ve raporlama, çok erişimli denetleme ve güvenlik de sağlar. Hırsızlık olayları artığından, güçlü veritabanı güvenliği günümüzde özellikle önem kazanmıştır"
   ]
  },
  {
   "cell_type": "markdown",
   "id": "39bfce2f",
   "metadata": {},
   "source": [
    "# Veri Tabani Yonetim Sistemi (DBMS)\n",
    "Veritabanları tipik olarak veritabanı yönetim sistemi (DBMS) olarak bilinen kapsamlı bir veritabanı yazılım programını gerektirir. DBMS, veritabanı ve son kullanıcıları ya da programlar arasında bir arayüz işlevi görerek kullanıcıların bilgilerin nasıl organize ve optimize edildiğini yönetmesine, bilgileri almasına ve güncellemesine olanak sağlar.\n",
    "\n",
    "DBMS aynı zamanda veritabanlarına ilişkin gözetim ve kontrol faaliyetlerini kolaylaştırarak performans izleme, ince ayar ve yedekleme ve kurtarma gibi çeşitli yönetim operasyonlarının gerçekleştirilebilmesini sağlar."
   ]
  },
  {
   "cell_type": "markdown",
   "id": "72b467da",
   "metadata": {},
   "source": [
    "### İş performansını ve karar vermeyi geliştirmek için veritabanları kullanma\n",
    "\n",
    "Internet of Things ile elde edilen devasa veri koleksiyonlarının dünya genelinde yaşamlar ve sektörler üzerinde yarattığı dönüşümle günümüz işletmeleri her zamankinden daha fazla veriye erişebiliyor. Yüzünü geleceğe dönen kurumlar, birden fazla sistemden elde edilen yüksek hacimlerde verileri analiz etmek üzere temel veri depolamanın ve temel işlemlerin ötesine geçmek için artık veritabanlarından yararlanabilir. Kurumlar, veritabanı, diğer bilişim ve iş zekâsı araçlarından yararlanarak daha verimli şekilde çalışmak, daha iyi bir karar alma sürecini mümkün kılmak ve daha çevik ve ölçeklenebilir hâle gelmek üzere topladıkları verilerden yararlanabilir.\n",
    "\n",
    "Kendi kendini yöneten veritabanı, bu özellikleri önemli ölçüde artırmaya hazırdır. Kendi kendini yöneten veritabanları maliyetli ve zaman alan manuel süreçleri otomatikleştirdiklerinden, kullanıcıların veri konusunda daha proaktif olmasına olanak sağlar. Kullanıcılar, veritabanlarını oluşturma ve kullanma konusunda doğrudan yetki sahibi olarak hem kontrol ve otonomi kazanıp hem de önemli güvenlik standartlarını koruyabilir."
   ]
  },
  {
   "cell_type": "markdown",
   "id": "52dc21e9",
   "metadata": {},
   "source": [
    "#   SQL ( Structured Query Language ) NEDIR ?\n",
    "\n",
    "SQL verileri sorgulamak, değiştirmek ve tanımlamak ve aynı zamanda erişim kontrolü sağlamak üzere neredeyse tüm ilişkisel veritabanlarında kullanılan bir programlama dilidir. SQL ilk olarak 1970'li yıllarda Oracle'ın büyük katkıları ile IBM'de geliştirilmiş ve daha sonra SQL ANSI standardı uygulanmış ve SQL IBM, Oracle ve Microsoft gibi şirketlerden pek çok uzantının temelini atmıştır.\n",
    "\n",
    "veritabanı yönetim sitemi (DBMS) veritabanını barındıra bir yazılım. Bizler bu yazılım üzerinden verilerimiz için yapmak istediğimiz sorguları SQL dili standardlarına uygun olarak yazmak durumundayız.\n",
    "\n",
    "#### Bir Programlama dili olarak SQL\n",
    "\n",
    "SQL ilişkisel veritabanı yönetim sistemleri ile ilişki kurmamızı sağlayan bir declarative (bildirimsel) bir programlama dilidir.\n",
    "\n",
    "#### Bildirimsel Yaklasim\n",
    "```\n",
    "SELECT title FROM book\n",
    "WHERE page_number > 200;\n",
    "```\n",
    "\n",
    "Yukarıdaki sorgumuzda, veritabanındaki book tablosundan sayfasayısı 200 den daha fazla olan kitapları görmek istiyoruz. Burada biz işin sonuç kısmıyla ilgileniyoruz. SQL, DBMS ile nasıl çalışır, arka tarafta yapılan işlemin bizim açımızdan önemi yoktur. Bundan dolayı SQL declarative yani bildirimsel, beyan edici bir yaklaşıma sahiptir.\n",
    "\n",
    "\n",
    "SQL daha az kod yazarak ve daha çok belirli şablonlar kullanan bir programlama dili olarak dördüncü nesil bir programlama dilidir. Yapılması istenen işlemin her basamağının ayrıca kodlanmasına gerek duyulmaz.\n",
    "\n",
    "\n",
    "\n",
    "\n",
    "\n",
    "\n"
   ]
  },
  {
   "cell_type": "code",
   "execution_count": null,
   "id": "dad4c587",
   "metadata": {},
   "outputs": [],
   "source": [
    "\n"
   ]
  }
 ],
 "metadata": {
  "kernelspec": {
   "display_name": "Python 3",
   "language": "python",
   "name": "python3"
  },
  "language_info": {
   "codemirror_mode": {
    "name": "ipython",
    "version": 3
   },
   "file_extension": ".py",
   "mimetype": "text/x-python",
   "name": "python",
   "nbconvert_exporter": "python",
   "pygments_lexer": "ipython3",
   "version": "3.9.3"
  },
  "toc": {
   "base_numbering": 1,
   "nav_menu": {},
   "number_sections": true,
   "sideBar": false,
   "skip_h1_title": false,
   "title_cell": "Table of Contents",
   "title_sidebar": "Contents",
   "toc_cell": true,
   "toc_position": {},
   "toc_section_display": true,
   "toc_window_display": false
  }
 },
 "nbformat": 4,
 "nbformat_minor": 5
}
